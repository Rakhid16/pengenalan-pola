{
 "cells": [
  {
   "cell_type": "markdown",
   "metadata": {},
   "source": [
    "<p style=\"text-align:justify\">&emsp;&emsp;Proses pelatihan (penyesuaian nilai bobot dan bias) dengan menggunakan metode propagasi balik dapat memakan waktu karena sifatnya yang iterarif(<a href=\"https://www.semanticscholar.org/paper/Extreme-learning-machine%3A-a-new-learning-scheme-of-Huang-Zhu/2b9c0e4d1d473aadbe1c2a76f75bc02bfa6416b0\">baca</a>). Oleh karena itu saya mencoba menerapkan metode pelatihan yang sifatnya yang tidak iteratif(sekali jalan/<i>feed forward</i>), cepat, dan juga mengahsilkan akurasi yang tidak kalah tinggi dengan metode propagasi balik, yaitu <i>Extreme Learning Machine</i>(ELM). Pada dasarnya ELM hanya memiliki satu <i>hidden layer</i> dengan jumlah node yang dapat disesuaikan.</p>\n",
    "<img src=\"https://www.researchgate.net/publication/265608741/figure/fig3/AS:213795097059335@1427984131066/The-structure-of-extreme-learning-machine.png\"/>\n",
    "Pada ELM bobot antara <i id=\"rumus\">input layer</i> dan <i>hidden layer</i> dibuat secara acak(antara 1-0).<br>\n",
    "Bobot yang disesuaikan(dilatih) adalah bobot antara <i>hidden layer</i> dan <i>output layer</i>.<br>\n",
    "Berikut adalah persamaan fungsi untuk mencari nilai bobot(disimbolkan beta) antara <i>hidden layer</i> dan <i>output layer</i> :<br>\n",
    "<img src=\"https://wikimedia.org/api/rest_v1/media/math/render/svg/3c23b9696f0b9c900b68e71fc63b1b5a0e0cc1e1\"/><br>\n",
    "X adalah nilai masukan<br>\n",
    "T adalah transpose<br>\n",
    "y adalah nilai target."
   ]
  },
  {
   "cell_type": "markdown",
   "metadata": {},
   "source": [
    "# Impor <i>libraries</i>"
   ]
  },
  {
   "cell_type": "code",
   "execution_count": 1,
   "metadata": {},
   "outputs": [],
   "source": [
    "import numpy as np\n",
    "from pandas import read_csv\n",
    "\n",
    "from sklearn.model_selection import train_test_split"
   ]
  },
  {
   "cell_type": "markdown",
   "metadata": {},
   "source": [
    "NumPy buat operasi matriks<br>\n",
    "read_csv dari Pandas buat muat <i>dataset</i><br>\n",
    "train_test_split buat membagi data uji dan data latih<br>"
   ]
  },
  {
   "cell_type": "markdown",
   "metadata": {},
   "source": [
    "# Muat <i>dataset</i>"
   ]
  },
  {
   "cell_type": "code",
   "execution_count": 2,
   "metadata": {
    "scrolled": false
   },
   "outputs": [
    {
     "data": {
      "text/html": [
       "<div>\n",
       "<style scoped>\n",
       "    .dataframe tbody tr th:only-of-type {\n",
       "        vertical-align: middle;\n",
       "    }\n",
       "\n",
       "    .dataframe tbody tr th {\n",
       "        vertical-align: top;\n",
       "    }\n",
       "\n",
       "    .dataframe thead th {\n",
       "        text-align: right;\n",
       "    }\n",
       "</style>\n",
       "<table border=\"1\" class=\"dataframe\">\n",
       "  <thead>\n",
       "    <tr style=\"text-align: right;\">\n",
       "      <th></th>\n",
       "      <th>area</th>\n",
       "      <th>perimeter</th>\n",
       "      <th>compactness</th>\n",
       "      <th>length of kernel</th>\n",
       "      <th>width of kernel</th>\n",
       "      <th>asymmetry coefficient</th>\n",
       "      <th>length of kernel groove</th>\n",
       "      <th>class</th>\n",
       "    </tr>\n",
       "  </thead>\n",
       "  <tbody>\n",
       "    <tr>\n",
       "      <th>0</th>\n",
       "      <td>15.2</td>\n",
       "      <td>14.8</td>\n",
       "      <td>0.870</td>\n",
       "      <td>5.76</td>\n",
       "      <td>3.31</td>\n",
       "      <td>2.22</td>\n",
       "      <td>5.20</td>\n",
       "      <td>1</td>\n",
       "    </tr>\n",
       "    <tr>\n",
       "      <th>1</th>\n",
       "      <td>14.8</td>\n",
       "      <td>14.5</td>\n",
       "      <td>0.881</td>\n",
       "      <td>5.55</td>\n",
       "      <td>3.33</td>\n",
       "      <td>1.01</td>\n",
       "      <td>4.95</td>\n",
       "      <td>1</td>\n",
       "    </tr>\n",
       "    <tr>\n",
       "      <th>2</th>\n",
       "      <td>14.2</td>\n",
       "      <td>14.0</td>\n",
       "      <td>0.900</td>\n",
       "      <td>5.29</td>\n",
       "      <td>3.33</td>\n",
       "      <td>2.69</td>\n",
       "      <td>4.82</td>\n",
       "      <td>1</td>\n",
       "    </tr>\n",
       "    <tr>\n",
       "      <th>3</th>\n",
       "      <td>13.8</td>\n",
       "      <td>13.9</td>\n",
       "      <td>0.895</td>\n",
       "      <td>5.32</td>\n",
       "      <td>3.37</td>\n",
       "      <td>2.25</td>\n",
       "      <td>4.80</td>\n",
       "      <td>1</td>\n",
       "    </tr>\n",
       "    <tr>\n",
       "      <th>4</th>\n",
       "      <td>16.1</td>\n",
       "      <td>14.9</td>\n",
       "      <td>0.903</td>\n",
       "      <td>5.65</td>\n",
       "      <td>3.56</td>\n",
       "      <td>1.35</td>\n",
       "      <td>5.17</td>\n",
       "      <td>1</td>\n",
       "    </tr>\n",
       "    <tr>\n",
       "      <th>...</th>\n",
       "      <td>...</td>\n",
       "      <td>...</td>\n",
       "      <td>...</td>\n",
       "      <td>...</td>\n",
       "      <td>...</td>\n",
       "      <td>...</td>\n",
       "      <td>...</td>\n",
       "      <td>...</td>\n",
       "    </tr>\n",
       "    <tr>\n",
       "      <th>205</th>\n",
       "      <td>12.1</td>\n",
       "      <td>13.0</td>\n",
       "      <td>0.878</td>\n",
       "      <td>5.13</td>\n",
       "      <td>2.98</td>\n",
       "      <td>3.63</td>\n",
       "      <td>4.80</td>\n",
       "      <td>3</td>\n",
       "    </tr>\n",
       "    <tr>\n",
       "      <th>206</th>\n",
       "      <td>11.2</td>\n",
       "      <td>12.8</td>\n",
       "      <td>0.851</td>\n",
       "      <td>5.10</td>\n",
       "      <td>2.79</td>\n",
       "      <td>4.32</td>\n",
       "      <td>5.00</td>\n",
       "      <td>3</td>\n",
       "    </tr>\n",
       "    <tr>\n",
       "      <th>207</th>\n",
       "      <td>13.0</td>\n",
       "      <td>13.6</td>\n",
       "      <td>0.888</td>\n",
       "      <td>5.23</td>\n",
       "      <td>3.23</td>\n",
       "      <td>8.31</td>\n",
       "      <td>5.05</td>\n",
       "      <td>3</td>\n",
       "    </tr>\n",
       "    <tr>\n",
       "      <th>208</th>\n",
       "      <td>11.8</td>\n",
       "      <td>13.2</td>\n",
       "      <td>0.852</td>\n",
       "      <td>5.17</td>\n",
       "      <td>2.83</td>\n",
       "      <td>3.59</td>\n",
       "      <td>5.04</td>\n",
       "      <td>3</td>\n",
       "    </tr>\n",
       "    <tr>\n",
       "      <th>209</th>\n",
       "      <td>12.0</td>\n",
       "      <td>13.3</td>\n",
       "      <td>0.868</td>\n",
       "      <td>5.24</td>\n",
       "      <td>2.97</td>\n",
       "      <td>5.63</td>\n",
       "      <td>5.06</td>\n",
       "      <td>3</td>\n",
       "    </tr>\n",
       "  </tbody>\n",
       "</table>\n",
       "<p>210 rows × 8 columns</p>\n",
       "</div>"
      ],
      "text/plain": [
       "     area  perimeter  compactness  length of kernel  width of kernel  \\\n",
       "0    15.2       14.8        0.870              5.76             3.31   \n",
       "1    14.8       14.5        0.881              5.55             3.33   \n",
       "2    14.2       14.0        0.900              5.29             3.33   \n",
       "3    13.8       13.9        0.895              5.32             3.37   \n",
       "4    16.1       14.9        0.903              5.65             3.56   \n",
       "..    ...        ...          ...               ...              ...   \n",
       "205  12.1       13.0        0.878              5.13             2.98   \n",
       "206  11.2       12.8        0.851              5.10             2.79   \n",
       "207  13.0       13.6        0.888              5.23             3.23   \n",
       "208  11.8       13.2        0.852              5.17             2.83   \n",
       "209  12.0       13.3        0.868              5.24             2.97   \n",
       "\n",
       "     asymmetry coefficient  length of kernel groove  class  \n",
       "0                     2.22                     5.20      1  \n",
       "1                     1.01                     4.95      1  \n",
       "2                     2.69                     4.82      1  \n",
       "3                     2.25                     4.80      1  \n",
       "4                     1.35                     5.17      1  \n",
       "..                     ...                      ...    ...  \n",
       "205                   3.63                     4.80      3  \n",
       "206                   4.32                     5.00      3  \n",
       "207                   8.31                     5.05      3  \n",
       "208                   3.59                     5.04      3  \n",
       "209                   5.63                     5.06      3  \n",
       "\n",
       "[210 rows x 8 columns]"
      ]
     },
     "execution_count": 2,
     "metadata": {},
     "output_type": "execute_result"
    }
   ],
   "source": [
    "data = read_csv(\"seeds_data.csv\")\n",
    "data"
   ]
  },
  {
   "cell_type": "markdown",
   "metadata": {},
   "source": [
    "Datanya diambil dari sini : https://archive.ics.uci.edu/ml/datasets/seeds<br>\n",
    "Sudah dibersihkan secara manual untuk mengisi nilai yang kosong dengan metode <i>simple rolling mean</i>"
   ]
  },
  {
   "cell_type": "markdown",
   "metadata": {},
   "source": [
    "# Tentukan data latih dan label yang jadi acuan klasifikasi"
   ]
  },
  {
   "cell_type": "code",
   "execution_count": 3,
   "metadata": {},
   "outputs": [],
   "source": [
    "x_train = data.drop(axis=1, columns='class')\n",
    "\n",
    "labels = data['class']"
   ]
  },
  {
   "cell_type": "markdown",
   "metadata": {},
   "source": [
    "Seluruh data kecuali kolom <b>class</b> ditampung ke dalam variabel <b>x_train</b><br>\n",
    "Sedangkan data pada kolom <b>class</b> ditampung ke dalam variabel <b>labels</b>"
   ]
  },
  {
   "cell_type": "code",
   "execution_count": 4,
   "metadata": {
    "scrolled": true
   },
   "outputs": [
    {
     "data": {
      "text/html": [
       "<div>\n",
       "<style scoped>\n",
       "    .dataframe tbody tr th:only-of-type {\n",
       "        vertical-align: middle;\n",
       "    }\n",
       "\n",
       "    .dataframe tbody tr th {\n",
       "        vertical-align: top;\n",
       "    }\n",
       "\n",
       "    .dataframe thead th {\n",
       "        text-align: right;\n",
       "    }\n",
       "</style>\n",
       "<table border=\"1\" class=\"dataframe\">\n",
       "  <thead>\n",
       "    <tr style=\"text-align: right;\">\n",
       "      <th></th>\n",
       "      <th>area</th>\n",
       "      <th>perimeter</th>\n",
       "      <th>compactness</th>\n",
       "      <th>length of kernel</th>\n",
       "      <th>width of kernel</th>\n",
       "      <th>asymmetry coefficient</th>\n",
       "      <th>length of kernel groove</th>\n",
       "    </tr>\n",
       "  </thead>\n",
       "  <tbody>\n",
       "    <tr>\n",
       "      <th>0</th>\n",
       "      <td>15.2</td>\n",
       "      <td>14.8</td>\n",
       "      <td>0.870</td>\n",
       "      <td>5.76</td>\n",
       "      <td>3.31</td>\n",
       "      <td>2.22</td>\n",
       "      <td>5.20</td>\n",
       "    </tr>\n",
       "    <tr>\n",
       "      <th>1</th>\n",
       "      <td>14.8</td>\n",
       "      <td>14.5</td>\n",
       "      <td>0.881</td>\n",
       "      <td>5.55</td>\n",
       "      <td>3.33</td>\n",
       "      <td>1.01</td>\n",
       "      <td>4.95</td>\n",
       "    </tr>\n",
       "    <tr>\n",
       "      <th>2</th>\n",
       "      <td>14.2</td>\n",
       "      <td>14.0</td>\n",
       "      <td>0.900</td>\n",
       "      <td>5.29</td>\n",
       "      <td>3.33</td>\n",
       "      <td>2.69</td>\n",
       "      <td>4.82</td>\n",
       "    </tr>\n",
       "    <tr>\n",
       "      <th>3</th>\n",
       "      <td>13.8</td>\n",
       "      <td>13.9</td>\n",
       "      <td>0.895</td>\n",
       "      <td>5.32</td>\n",
       "      <td>3.37</td>\n",
       "      <td>2.25</td>\n",
       "      <td>4.80</td>\n",
       "    </tr>\n",
       "    <tr>\n",
       "      <th>4</th>\n",
       "      <td>16.1</td>\n",
       "      <td>14.9</td>\n",
       "      <td>0.903</td>\n",
       "      <td>5.65</td>\n",
       "      <td>3.56</td>\n",
       "      <td>1.35</td>\n",
       "      <td>5.17</td>\n",
       "    </tr>\n",
       "  </tbody>\n",
       "</table>\n",
       "</div>"
      ],
      "text/plain": [
       "   area  perimeter  compactness  length of kernel  width of kernel  \\\n",
       "0  15.2       14.8        0.870              5.76             3.31   \n",
       "1  14.8       14.5        0.881              5.55             3.33   \n",
       "2  14.2       14.0        0.900              5.29             3.33   \n",
       "3  13.8       13.9        0.895              5.32             3.37   \n",
       "4  16.1       14.9        0.903              5.65             3.56   \n",
       "\n",
       "   asymmetry coefficient  length of kernel groove  \n",
       "0                   2.22                     5.20  \n",
       "1                   1.01                     4.95  \n",
       "2                   2.69                     4.82  \n",
       "3                   2.25                     4.80  \n",
       "4                   1.35                     5.17  "
      ]
     },
     "execution_count": 4,
     "metadata": {},
     "output_type": "execute_result"
    }
   ],
   "source": [
    "x_train.head()"
   ]
  },
  {
   "cell_type": "code",
   "execution_count": 5,
   "metadata": {},
   "outputs": [
    {
     "data": {
      "text/plain": [
       "array([1, 1, 1, 1, 1, 1, 1, 1, 1, 1, 1, 1, 1, 1, 1, 1, 1, 1, 1, 1, 1, 1,\n",
       "       1, 1, 1, 1, 1, 1, 1, 1, 1, 1, 1, 1, 1, 1, 1, 1, 1, 1, 1, 1, 1, 1,\n",
       "       1, 1, 1, 1, 1, 1, 1, 1, 1, 1, 1, 1, 1, 1, 1, 1, 1, 1, 1, 1, 1, 1,\n",
       "       1, 1, 1, 1, 2, 2, 2, 2, 2, 2, 2, 2, 2, 2, 2, 2, 2, 2, 2, 2, 2, 2,\n",
       "       2, 2, 2, 2, 2, 2, 2, 2, 2, 2, 2, 2, 2, 2, 2, 2, 2, 2, 2, 2, 2, 2,\n",
       "       2, 2, 2, 2, 2, 2, 2, 2, 2, 2, 2, 2, 2, 2, 2, 2, 2, 2, 2, 2, 2, 2,\n",
       "       2, 2, 2, 2, 2, 2, 2, 2, 3, 3, 3, 3, 3, 3, 3, 3, 3, 3, 3, 3, 3, 3,\n",
       "       3, 3, 3, 3, 3, 3, 3, 3, 3, 3, 3, 3, 3, 3, 3, 3, 3, 3, 3, 3, 3, 3,\n",
       "       3, 3, 3, 3, 3, 3, 3, 3, 3, 3, 3, 3, 3, 3, 3, 3, 3, 3, 3, 3, 3, 3,\n",
       "       3, 3, 3, 3, 3, 3, 3, 3, 3, 3, 3, 3])"
      ]
     },
     "execution_count": 5,
     "metadata": {},
     "output_type": "execute_result"
    }
   ],
   "source": [
    "labels.ravel()"
   ]
  },
  {
   "cell_type": "markdown",
   "metadata": {},
   "source": [
    "### Lakukan <i>one hot encoding</i>"
   ]
  },
  {
   "cell_type": "code",
   "execution_count": 6,
   "metadata": {},
   "outputs": [],
   "source": [
    "kelas = len(np.unique(labels))\n",
    "\n",
    "y_train = np.zeros([len(labels), kelas])\n",
    "\n",
    "for i in range(len(labels)):\n",
    "        if i < len(labels)/kelas:\n",
    "            y_train[i][0] = 1\n",
    "        elif i > len(labels)/kelas and i < len(labels)/kelas*2:\n",
    "            y_train[i][1] = 1\n",
    "        else:\n",
    "            y_train[i][2] = 1"
   ]
  },
  {
   "cell_type": "markdown",
   "metadata": {},
   "source": [
    "Nah jadi <i>one hot encoding</i> ini sebetulnya cuma ngubah format label aja sih, biar enak waktu dihitung.<br>\n",
    "Contohnya seperti ini :"
   ]
  },
  {
   "cell_type": "code",
   "execution_count": 7,
   "metadata": {
    "scrolled": true
   },
   "outputs": [
    {
     "name": "stdout",
     "output_type": "stream",
     "text": [
      "(210, 3)\n"
     ]
    },
    {
     "data": {
      "text/plain": [
       "array([[1., 0., 0.],\n",
       "       [1., 0., 0.],\n",
       "       [1., 0., 0.],\n",
       "       [1., 0., 0.],\n",
       "       [1., 0., 0.],\n",
       "       [1., 0., 0.],\n",
       "       [1., 0., 0.],\n",
       "       [1., 0., 0.],\n",
       "       [1., 0., 0.],\n",
       "       [1., 0., 0.],\n",
       "       [1., 0., 0.],\n",
       "       [1., 0., 0.],\n",
       "       [1., 0., 0.],\n",
       "       [1., 0., 0.],\n",
       "       [1., 0., 0.],\n",
       "       [1., 0., 0.],\n",
       "       [1., 0., 0.],\n",
       "       [1., 0., 0.],\n",
       "       [1., 0., 0.],\n",
       "       [1., 0., 0.],\n",
       "       [1., 0., 0.],\n",
       "       [1., 0., 0.],\n",
       "       [1., 0., 0.],\n",
       "       [1., 0., 0.],\n",
       "       [1., 0., 0.],\n",
       "       [1., 0., 0.],\n",
       "       [1., 0., 0.],\n",
       "       [1., 0., 0.],\n",
       "       [1., 0., 0.],\n",
       "       [1., 0., 0.],\n",
       "       [1., 0., 0.],\n",
       "       [1., 0., 0.],\n",
       "       [1., 0., 0.],\n",
       "       [1., 0., 0.],\n",
       "       [1., 0., 0.],\n",
       "       [1., 0., 0.],\n",
       "       [1., 0., 0.],\n",
       "       [1., 0., 0.],\n",
       "       [1., 0., 0.],\n",
       "       [1., 0., 0.],\n",
       "       [1., 0., 0.],\n",
       "       [1., 0., 0.],\n",
       "       [1., 0., 0.],\n",
       "       [1., 0., 0.],\n",
       "       [1., 0., 0.],\n",
       "       [1., 0., 0.],\n",
       "       [1., 0., 0.],\n",
       "       [1., 0., 0.],\n",
       "       [1., 0., 0.],\n",
       "       [1., 0., 0.],\n",
       "       [1., 0., 0.],\n",
       "       [1., 0., 0.],\n",
       "       [1., 0., 0.],\n",
       "       [1., 0., 0.],\n",
       "       [1., 0., 0.],\n",
       "       [1., 0., 0.],\n",
       "       [1., 0., 0.],\n",
       "       [1., 0., 0.],\n",
       "       [1., 0., 0.],\n",
       "       [1., 0., 0.],\n",
       "       [1., 0., 0.],\n",
       "       [1., 0., 0.],\n",
       "       [1., 0., 0.],\n",
       "       [1., 0., 0.],\n",
       "       [1., 0., 0.],\n",
       "       [1., 0., 0.],\n",
       "       [1., 0., 0.],\n",
       "       [1., 0., 0.],\n",
       "       [1., 0., 0.],\n",
       "       [1., 0., 0.],\n",
       "       [0., 0., 1.],\n",
       "       [0., 1., 0.],\n",
       "       [0., 1., 0.],\n",
       "       [0., 1., 0.],\n",
       "       [0., 1., 0.],\n",
       "       [0., 1., 0.],\n",
       "       [0., 1., 0.],\n",
       "       [0., 1., 0.],\n",
       "       [0., 1., 0.],\n",
       "       [0., 1., 0.],\n",
       "       [0., 1., 0.],\n",
       "       [0., 1., 0.],\n",
       "       [0., 1., 0.],\n",
       "       [0., 1., 0.],\n",
       "       [0., 1., 0.],\n",
       "       [0., 1., 0.],\n",
       "       [0., 1., 0.],\n",
       "       [0., 1., 0.],\n",
       "       [0., 1., 0.],\n",
       "       [0., 1., 0.],\n",
       "       [0., 1., 0.],\n",
       "       [0., 1., 0.],\n",
       "       [0., 1., 0.],\n",
       "       [0., 1., 0.],\n",
       "       [0., 1., 0.],\n",
       "       [0., 1., 0.],\n",
       "       [0., 1., 0.],\n",
       "       [0., 1., 0.],\n",
       "       [0., 1., 0.],\n",
       "       [0., 1., 0.],\n",
       "       [0., 1., 0.],\n",
       "       [0., 1., 0.],\n",
       "       [0., 1., 0.],\n",
       "       [0., 1., 0.],\n",
       "       [0., 1., 0.],\n",
       "       [0., 1., 0.],\n",
       "       [0., 1., 0.],\n",
       "       [0., 1., 0.],\n",
       "       [0., 1., 0.],\n",
       "       [0., 1., 0.],\n",
       "       [0., 1., 0.],\n",
       "       [0., 1., 0.],\n",
       "       [0., 1., 0.],\n",
       "       [0., 1., 0.],\n",
       "       [0., 1., 0.],\n",
       "       [0., 1., 0.],\n",
       "       [0., 1., 0.],\n",
       "       [0., 1., 0.],\n",
       "       [0., 1., 0.],\n",
       "       [0., 1., 0.],\n",
       "       [0., 1., 0.],\n",
       "       [0., 1., 0.],\n",
       "       [0., 1., 0.],\n",
       "       [0., 1., 0.],\n",
       "       [0., 1., 0.],\n",
       "       [0., 1., 0.],\n",
       "       [0., 1., 0.],\n",
       "       [0., 1., 0.],\n",
       "       [0., 1., 0.],\n",
       "       [0., 1., 0.],\n",
       "       [0., 1., 0.],\n",
       "       [0., 1., 0.],\n",
       "       [0., 1., 0.],\n",
       "       [0., 1., 0.],\n",
       "       [0., 1., 0.],\n",
       "       [0., 1., 0.],\n",
       "       [0., 1., 0.],\n",
       "       [0., 1., 0.],\n",
       "       [0., 1., 0.],\n",
       "       [0., 1., 0.],\n",
       "       [0., 0., 1.],\n",
       "       [0., 0., 1.],\n",
       "       [0., 0., 1.],\n",
       "       [0., 0., 1.],\n",
       "       [0., 0., 1.],\n",
       "       [0., 0., 1.],\n",
       "       [0., 0., 1.],\n",
       "       [0., 0., 1.],\n",
       "       [0., 0., 1.],\n",
       "       [0., 0., 1.],\n",
       "       [0., 0., 1.],\n",
       "       [0., 0., 1.],\n",
       "       [0., 0., 1.],\n",
       "       [0., 0., 1.],\n",
       "       [0., 0., 1.],\n",
       "       [0., 0., 1.],\n",
       "       [0., 0., 1.],\n",
       "       [0., 0., 1.],\n",
       "       [0., 0., 1.],\n",
       "       [0., 0., 1.],\n",
       "       [0., 0., 1.],\n",
       "       [0., 0., 1.],\n",
       "       [0., 0., 1.],\n",
       "       [0., 0., 1.],\n",
       "       [0., 0., 1.],\n",
       "       [0., 0., 1.],\n",
       "       [0., 0., 1.],\n",
       "       [0., 0., 1.],\n",
       "       [0., 0., 1.],\n",
       "       [0., 0., 1.],\n",
       "       [0., 0., 1.],\n",
       "       [0., 0., 1.],\n",
       "       [0., 0., 1.],\n",
       "       [0., 0., 1.],\n",
       "       [0., 0., 1.],\n",
       "       [0., 0., 1.],\n",
       "       [0., 0., 1.],\n",
       "       [0., 0., 1.],\n",
       "       [0., 0., 1.],\n",
       "       [0., 0., 1.],\n",
       "       [0., 0., 1.],\n",
       "       [0., 0., 1.],\n",
       "       [0., 0., 1.],\n",
       "       [0., 0., 1.],\n",
       "       [0., 0., 1.],\n",
       "       [0., 0., 1.],\n",
       "       [0., 0., 1.],\n",
       "       [0., 0., 1.],\n",
       "       [0., 0., 1.],\n",
       "       [0., 0., 1.],\n",
       "       [0., 0., 1.],\n",
       "       [0., 0., 1.],\n",
       "       [0., 0., 1.],\n",
       "       [0., 0., 1.],\n",
       "       [0., 0., 1.],\n",
       "       [0., 0., 1.],\n",
       "       [0., 0., 1.],\n",
       "       [0., 0., 1.],\n",
       "       [0., 0., 1.],\n",
       "       [0., 0., 1.],\n",
       "       [0., 0., 1.],\n",
       "       [0., 0., 1.],\n",
       "       [0., 0., 1.],\n",
       "       [0., 0., 1.],\n",
       "       [0., 0., 1.],\n",
       "       [0., 0., 1.],\n",
       "       [0., 0., 1.],\n",
       "       [0., 0., 1.],\n",
       "       [0., 0., 1.],\n",
       "       [0., 0., 1.]])"
      ]
     },
     "execution_count": 7,
     "metadata": {},
     "output_type": "execute_result"
    }
   ],
   "source": [
    "print(y_train.shape)\n",
    "\n",
    "y_train"
   ]
  },
  {
   "cell_type": "markdown",
   "metadata": {},
   "source": [
    "Nah itu total barisnya ada 210 sama seperti todal baris pada data.<br>\n",
    "Kemudian memiliki tiga kolom di mana masing-masing kolom mewakili nilai kelas dari tiap data.<br>\n",
    "Pada baris ke 1-70 itu masuk ke dalam kelas 1. Jadi angka satu berdada di indeks 0.<br>\n",
    "Baris ke 71-140 masuk kedalam kelas 2. Angka satu berada pada indeks ke 1.<br>\n",
    "Baris ke 141-210 masuk kedalam kelas 3 dan angka satu berada pada indeks ke 2.<br><br>\n",
    "Saya rasa ini mudah dipahami hehehe"
   ]
  },
  {
   "cell_type": "markdown",
   "metadata": {},
   "source": [
    "# Pisah data uji dan data latih"
   ]
  },
  {
   "cell_type": "code",
   "execution_count": 8,
   "metadata": {
    "scrolled": true
   },
   "outputs": [
    {
     "name": "stdout",
     "output_type": "stream",
     "text": [
      "Data latih : 147\n",
      "Data uji   : 63\n"
     ]
    }
   ],
   "source": [
    "x_train, x_test, y_train, y_test = train_test_split(x_train, y_train, test_size=0.3)\n",
    "\n",
    "print(\"Data latih :\",len(x_train))\n",
    "print(\"Data uji   :\", len(x_test))"
   ]
  },
  {
   "cell_type": "markdown",
   "metadata": {},
   "source": [
    "Oke kita jadikan 70% data sebagai data latih dan sisanya 30% jadi data uji"
   ]
  },
  {
   "cell_type": "markdown",
   "metadata": {},
   "source": [
    "# Inisialisasi fungsi yang digunakan untuk menghitung"
   ]
  },
  {
   "cell_type": "code",
   "execution_count": 9,
   "metadata": {},
   "outputs": [],
   "source": [
    "# FUNGSI AKTIVASI\n",
    "def sigmoid(x):\n",
    "    return 1/(1 + np.exp(-x))"
   ]
  },
  {
   "cell_type": "markdown",
   "metadata": {},
   "source": [
    "<img src=\"https://qph.fs.quoracdn.net/main-qimg-05edc1873d0103e36064862a45566dba\"/><br>\n",
    "Pada percobaan kali ini saya menggunakan fungsi aktivasi sigmoin di mana nilai yang dihasilkan adalah dari rentang 0 sampai 1.<br>"
   ]
  },
  {
   "cell_type": "code",
   "execution_count": 10,
   "metadata": {},
   "outputs": [],
   "source": [
    "def input_to_hidden(x):\n",
    "    a = np.dot(x, Win)\n",
    "    a += bias\n",
    "    a = sigmoid(a)\n",
    "    return a"
   ]
  },
  {
   "cell_type": "markdown",
   "metadata": {},
   "source": [
    "Fungsi di atas adalah untuk proses perkalian nilai masukan pada bobot yang ada pada antara <i>input layer</i> dan <i>hidden layer</i>"
   ]
  },
  {
   "cell_type": "code",
   "execution_count": 11,
   "metadata": {},
   "outputs": [],
   "source": [
    "def predict(x, bobot):\n",
    "    x = input_to_hidden(x)\n",
    "    y = np.dot(x, bobot)      # PERHITUNGAN DARI HIDDEN LAYER MENUJU OUTPUT LAYER\n",
    "    return y"
   ]
  },
  {
   "cell_type": "markdown",
   "metadata": {},
   "source": [
    "Fungsi di atas itu untuk memprediksi nilai masukan atau data uji ya.<br>\n",
    "Nah jadi kita panggil fungsi <b>input_to_hidden</b> kemudian nilai kembaliannya dimasukkan ke variabel <b>x</b>.<br>\n",
    "Setelah itu nilai yang ada pada variabel <b>x</b> dikalikan secara matriks dengan parameter <b>bobot</b> di mana parameter ini menampung nilai perhitungan antara <i>hidden layer</i> dan <i>output layer</i>."
   ]
  },
  {
   "cell_type": "markdown",
   "metadata": {},
   "source": [
    "# Inisialisasi <i>input layer</i> dan <i>hidden layer</i>"
   ]
  },
  {
   "cell_type": "code",
   "execution_count": 12,
   "metadata": {},
   "outputs": [
    {
     "data": {
      "text/plain": [
       "(7, 100)"
      ]
     },
     "execution_count": 12,
     "metadata": {},
     "output_type": "execute_result"
    }
   ],
   "source": [
    "inpt = x_train.shape[1]   # 7 NODE PADA INPUT LAYER\n",
    "hidden = 100             # 100 NODE PADA HIDDEN LAYER\n",
    "\n",
    "bias = np.random.randn(hidden)\n",
    "Win = np.random.normal(size=[inpt, hidden])\n",
    "\n",
    "Win.shape"
   ]
  },
  {
   "cell_type": "markdown",
   "metadata": {},
   "source": [
    "Jaringan saraf tiruan yang kita susun terdiri dari 7 node <i>input layer</i> dan 100 node <i>hidden layer</i>.<br>\n",
    "\"Kenapa kok 7?\" Ya karena nilai <i>input</i> untuk mengklasifikasikan nilai pada kolom <b>class</b> jumlahnya ada 7.<br>\n",
    "Jumlah node pada <i>hidden layer</i> kok 100 itu sebenernya saya ndak ada kriteria khusus sih, saya cuma mau masang nilai 100 aja heheheh (walaupun sebetulnya sudah pernah dicoba dengan nilai-nilai yang lain).<br>\n",
    "\n",
    "\"Lah terus jumlah node pada output layer'nya mana nih?<br>\n",
    "Nggak diatur sekalian?\"<br>\n",
    "\n",
    "Itu nanti terbentuk setelah melalui perhitungan pake rumus di <a href=\"#rumus\">atas</a>."
   ]
  },
  {
   "cell_type": "markdown",
   "metadata": {},
   "source": [
    "# Perhitungan ELM"
   ]
  },
  {
   "cell_type": "code",
   "execution_count": 13,
   "metadata": {
    "scrolled": true
   },
   "outputs": [
    {
     "data": {
      "text/plain": [
       "(100, 3)"
      ]
     },
     "execution_count": 13,
     "metadata": {},
     "output_type": "execute_result"
    }
   ],
   "source": [
    "X = input_to_hidden(x_train)\n",
    "Xt = np.transpose(X)\n",
    "\n",
    "Wout = np.dot(np.linalg.pinv(np.dot(Xt, X)), np.dot(Xt, y_train))   # BOBOT YANG SUDAH TERLATIH\n",
    "\n",
    "Wout.shape"
   ]
  },
  {
   "cell_type": "markdown",
   "metadata": {},
   "source": [
    "Kita panggil fungsi <b>input_to_hidden</b> dengan <b>x_train</b> sebagai argumen kemudian nilai kembaliannya ditampung ke dalam variabel <b>X</b>.<br>\n",
    "Nilai transpose dari variabel <b>X</b> disimpan ke dalam variabel <b>Xt</b>.<br>\n",
    "\n",
    "Nah jadi perhitungan bobot selanjutnya (dari <i>hidden layer</i> ke <i>output layer</i>) itu pake rumus ini:<br>\n",
    "<img src=\"https://wikimedia.org/api/rest_v1/media/math/render/svg/3c23b9696f0b9c900b68e71fc63b1b5a0e0cc1e1\"/><br>\n",
    "Nanti nilainya ditampung ke dalam variabel <b>Wout</b> yang memiliki matriks berukuran 100x3.<br>\n",
    "\n",
    "Sebetulnya fungsi yang digunakan adalah <b>np.linalg.inv</b> bukan <b>np.linalg.pinv</b>.<br>\n",
    "Saya menggunakan yang <b>np.linalg.pinv</b> karena matriks yang terbentuk dari hasil menggunakan <b>np.linalg.inv</b> (operasi invers) adalah matriks singular.<br>\n",
    "Solusi dari Stackoverflow itu saya kudu menggunakan <a href=\"https://en.wikipedia.org/wiki/Singular_value_decomposition\">singular value decomposition</a> yang sudah ada pada fungsi <a href=\"https://docs.scipy.org/doc/numpy/reference/generated/numpy.linalg.pinv.html\"><b>np.linalg.pinv</b></a>.<br>\n",
    "Arti <b>p</b> dari <b>.pinv</b> adalah pseudo.\n",
    "\n",
    "Di mana 100 itu jumlah node pada <i>hidden layer</i> dan 3 itu adalah jumlah node pada <i>output layer</i>.<br>\n",
    "Nah sekarang jadi tahu kan gimana <i>output layer</i> terbentuk heheheh...<br>"
   ]
  },
  {
   "cell_type": "markdown",
   "metadata": {},
   "source": [
    "# Evaluasi ELM"
   ]
  },
  {
   "cell_type": "markdown",
   "metadata": {},
   "source": [
    "Karena bobot sudah pada dilatih semua yaudah saatnya kita uji akurasi ELM kita"
   ]
  },
  {
   "cell_type": "code",
   "execution_count": 15,
   "metadata": {},
   "outputs": [
    {
     "name": "stdout",
     "output_type": "stream",
     "text": [
      "Akurasi: 0.9682539682539683\n"
     ]
    }
   ],
   "source": [
    "y = predict(x_test, Wout)\n",
    "\n",
    "betul = 0\n",
    "total = len(y)\n",
    "\n",
    "for i in range(total):\n",
    "    hasil_prediksi = np.argmax(y[i])\n",
    "    tes = np.argmax(y_test[i])\n",
    "    betul = betul + (1 if hasil_prediksi == tes else 0)\n",
    "\n",
    "print(\"Akurasi:\", betul/total)"
   ]
  },
  {
   "cell_type": "markdown",
   "metadata": {},
   "source": [
    "Alhamdulillah ELM yang dirancang punya akurasi di atas 95% hehehe.<br>\n",
    "Ini nih kalau mau lihat nilai hasil prediksi dan nilai yang asli"
   ]
  },
  {
   "cell_type": "code",
   "execution_count": 16,
   "metadata": {},
   "outputs": [
    {
     "data": {
      "text/plain": [
       "array([1, 2, 0, 1, 1, 1, 1, 0, 2, 2, 2, 2, 0, 2, 2, 0, 1, 2, 1, 2, 0, 0,\n",
       "       1, 0, 2, 1, 1, 2, 1, 0, 0, 0, 0, 2, 1, 0, 0, 1, 1, 0, 0, 2, 1, 0,\n",
       "       0, 0, 1, 0, 0, 0, 0, 2, 1, 2, 2, 1, 1, 2, 0, 0, 0, 0, 0])"
      ]
     },
     "execution_count": 16,
     "metadata": {},
     "output_type": "execute_result"
    }
   ],
   "source": [
    "np.argmax(y, axis=1)"
   ]
  },
  {
   "cell_type": "code",
   "execution_count": 17,
   "metadata": {},
   "outputs": [
    {
     "data": {
      "text/plain": [
       "array([1, 2, 0, 1, 1, 1, 1, 0, 2, 2, 2, 2, 0, 2, 2, 0, 1, 2, 1, 2, 0, 0,\n",
       "       1, 0, 2, 1, 1, 2, 1, 0, 0, 0, 0, 2, 1, 0, 0, 1, 1, 0, 0, 2, 1, 0,\n",
       "       0, 0, 1, 0, 0, 2, 0, 0, 1, 2, 2, 1, 1, 2, 0, 0, 0, 0, 0])"
      ]
     },
     "execution_count": 17,
     "metadata": {},
     "output_type": "execute_result"
    }
   ],
   "source": [
    "np.argmax(y_test, axis=1)"
   ]
  },
  {
   "cell_type": "code",
   "execution_count": null,
   "metadata": {},
   "outputs": [],
   "source": []
  }
 ],
 "metadata": {
  "kernelspec": {
   "display_name": "Python 3",
   "language": "python",
   "name": "python3"
  },
  "language_info": {
   "codemirror_mode": {
    "name": "ipython",
    "version": 3
   },
   "file_extension": ".py",
   "mimetype": "text/x-python",
   "name": "python",
   "nbconvert_exporter": "python",
   "pygments_lexer": "ipython3",
   "version": "3.6.9"
  }
 },
 "nbformat": 4,
 "nbformat_minor": 4
}
