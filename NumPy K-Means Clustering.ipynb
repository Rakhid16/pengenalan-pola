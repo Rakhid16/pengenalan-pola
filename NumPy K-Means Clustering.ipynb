{
 "cells": [
  {
   "cell_type": "code",
   "execution_count": 1,
   "metadata": {},
   "outputs": [],
   "source": [
    "import numpy as np\n",
    "from pandas import read_csv, DataFrame"
   ]
  },
  {
   "cell_type": "markdown",
   "metadata": {},
   "source": [
    "NumPy buat operasi matriks<br>\n",
    "read_csv & DataFrame dari Pandas buat muat <i>dataset</i> & bikin DataFrame baru"
   ]
  },
  {
   "cell_type": "markdown",
   "metadata": {},
   "source": [
    "# Muat <i>dataset</i>"
   ]
  },
  {
   "cell_type": "code",
   "execution_count": 2,
   "metadata": {
    "scrolled": true
   },
   "outputs": [
    {
     "data": {
      "text/html": [
       "<div>\n",
       "<style scoped>\n",
       "    .dataframe tbody tr th:only-of-type {\n",
       "        vertical-align: middle;\n",
       "    }\n",
       "\n",
       "    .dataframe tbody tr th {\n",
       "        vertical-align: top;\n",
       "    }\n",
       "\n",
       "    .dataframe thead th {\n",
       "        text-align: right;\n",
       "    }\n",
       "</style>\n",
       "<table border=\"1\" class=\"dataframe\">\n",
       "  <thead>\n",
       "    <tr style=\"text-align: right;\">\n",
       "      <th></th>\n",
       "      <th>area</th>\n",
       "      <th>perimeter</th>\n",
       "      <th>compactness</th>\n",
       "      <th>length of kernel</th>\n",
       "      <th>width of kernel</th>\n",
       "      <th>asymmetry coefficient</th>\n",
       "      <th>length of kernel groove</th>\n",
       "      <th>class</th>\n",
       "    </tr>\n",
       "  </thead>\n",
       "  <tbody>\n",
       "    <tr>\n",
       "      <th>0</th>\n",
       "      <td>15.2</td>\n",
       "      <td>14.8</td>\n",
       "      <td>0.870</td>\n",
       "      <td>5.76</td>\n",
       "      <td>3.31</td>\n",
       "      <td>2.22</td>\n",
       "      <td>5.20</td>\n",
       "      <td>1</td>\n",
       "    </tr>\n",
       "    <tr>\n",
       "      <th>1</th>\n",
       "      <td>14.8</td>\n",
       "      <td>14.5</td>\n",
       "      <td>0.881</td>\n",
       "      <td>5.55</td>\n",
       "      <td>3.33</td>\n",
       "      <td>1.01</td>\n",
       "      <td>4.95</td>\n",
       "      <td>1</td>\n",
       "    </tr>\n",
       "    <tr>\n",
       "      <th>2</th>\n",
       "      <td>14.2</td>\n",
       "      <td>14.0</td>\n",
       "      <td>0.900</td>\n",
       "      <td>5.29</td>\n",
       "      <td>3.33</td>\n",
       "      <td>2.69</td>\n",
       "      <td>4.82</td>\n",
       "      <td>1</td>\n",
       "    </tr>\n",
       "    <tr>\n",
       "      <th>3</th>\n",
       "      <td>13.8</td>\n",
       "      <td>13.9</td>\n",
       "      <td>0.895</td>\n",
       "      <td>5.32</td>\n",
       "      <td>3.37</td>\n",
       "      <td>2.25</td>\n",
       "      <td>4.80</td>\n",
       "      <td>1</td>\n",
       "    </tr>\n",
       "    <tr>\n",
       "      <th>4</th>\n",
       "      <td>16.1</td>\n",
       "      <td>14.9</td>\n",
       "      <td>0.903</td>\n",
       "      <td>5.65</td>\n",
       "      <td>3.56</td>\n",
       "      <td>1.35</td>\n",
       "      <td>5.17</td>\n",
       "      <td>1</td>\n",
       "    </tr>\n",
       "  </tbody>\n",
       "</table>\n",
       "</div>"
      ],
      "text/plain": [
       "   area  perimeter  compactness  length of kernel  width of kernel  \\\n",
       "0  15.2       14.8        0.870              5.76             3.31   \n",
       "1  14.8       14.5        0.881              5.55             3.33   \n",
       "2  14.2       14.0        0.900              5.29             3.33   \n",
       "3  13.8       13.9        0.895              5.32             3.37   \n",
       "4  16.1       14.9        0.903              5.65             3.56   \n",
       "\n",
       "   asymmetry coefficient  length of kernel groove  class  \n",
       "0                   2.22                     5.20      1  \n",
       "1                   1.01                     4.95      1  \n",
       "2                   2.69                     4.82      1  \n",
       "3                   2.25                     4.80      1  \n",
       "4                   1.35                     5.17      1  "
      ]
     },
     "execution_count": 2,
     "metadata": {},
     "output_type": "execute_result"
    }
   ],
   "source": [
    "data = read_csv(\"seeds_data.csv\")\n",
    "data.head()"
   ]
  },
  {
   "cell_type": "markdown",
   "metadata": {},
   "source": [
    "Datanya diambil dari sini : https://archive.ics.uci.edu/ml/datasets/seeds<br>\n",
    "Sudah dibersihkan secara manual untuk mengisi nilai yang kosong dengan metode <i>simple rolling mean</i>"
   ]
  },
  {
   "cell_type": "code",
   "execution_count": 3,
   "metadata": {
    "scrolled": true
   },
   "outputs": [
    {
     "data": {
      "text/html": [
       "<div>\n",
       "<style scoped>\n",
       "    .dataframe tbody tr th:only-of-type {\n",
       "        vertical-align: middle;\n",
       "    }\n",
       "\n",
       "    .dataframe tbody tr th {\n",
       "        vertical-align: top;\n",
       "    }\n",
       "\n",
       "    .dataframe thead th {\n",
       "        text-align: right;\n",
       "    }\n",
       "</style>\n",
       "<table border=\"1\" class=\"dataframe\">\n",
       "  <thead>\n",
       "    <tr style=\"text-align: right;\">\n",
       "      <th></th>\n",
       "      <th>area</th>\n",
       "      <th>perimeter</th>\n",
       "      <th>compactness</th>\n",
       "      <th>length of kernel</th>\n",
       "      <th>width of kernel</th>\n",
       "      <th>asymmetry coefficient</th>\n",
       "      <th>length of kernel groove</th>\n",
       "    </tr>\n",
       "  </thead>\n",
       "  <tbody>\n",
       "    <tr>\n",
       "      <th>0</th>\n",
       "      <td>15.2</td>\n",
       "      <td>14.8</td>\n",
       "      <td>0.870</td>\n",
       "      <td>5.76</td>\n",
       "      <td>3.31</td>\n",
       "      <td>2.22</td>\n",
       "      <td>5.20</td>\n",
       "    </tr>\n",
       "    <tr>\n",
       "      <th>1</th>\n",
       "      <td>14.8</td>\n",
       "      <td>14.5</td>\n",
       "      <td>0.881</td>\n",
       "      <td>5.55</td>\n",
       "      <td>3.33</td>\n",
       "      <td>1.01</td>\n",
       "      <td>4.95</td>\n",
       "    </tr>\n",
       "    <tr>\n",
       "      <th>2</th>\n",
       "      <td>14.2</td>\n",
       "      <td>14.0</td>\n",
       "      <td>0.900</td>\n",
       "      <td>5.29</td>\n",
       "      <td>3.33</td>\n",
       "      <td>2.69</td>\n",
       "      <td>4.82</td>\n",
       "    </tr>\n",
       "    <tr>\n",
       "      <th>3</th>\n",
       "      <td>13.8</td>\n",
       "      <td>13.9</td>\n",
       "      <td>0.895</td>\n",
       "      <td>5.32</td>\n",
       "      <td>3.37</td>\n",
       "      <td>2.25</td>\n",
       "      <td>4.80</td>\n",
       "    </tr>\n",
       "    <tr>\n",
       "      <th>4</th>\n",
       "      <td>16.1</td>\n",
       "      <td>14.9</td>\n",
       "      <td>0.903</td>\n",
       "      <td>5.65</td>\n",
       "      <td>3.56</td>\n",
       "      <td>1.35</td>\n",
       "      <td>5.17</td>\n",
       "    </tr>\n",
       "  </tbody>\n",
       "</table>\n",
       "</div>"
      ],
      "text/plain": [
       "   area  perimeter  compactness  length of kernel  width of kernel  \\\n",
       "0  15.2       14.8        0.870              5.76             3.31   \n",
       "1  14.8       14.5        0.881              5.55             3.33   \n",
       "2  14.2       14.0        0.900              5.29             3.33   \n",
       "3  13.8       13.9        0.895              5.32             3.37   \n",
       "4  16.1       14.9        0.903              5.65             3.56   \n",
       "\n",
       "   asymmetry coefficient  length of kernel groove  \n",
       "0                   2.22                     5.20  \n",
       "1                   1.01                     4.95  \n",
       "2                   2.69                     4.82  \n",
       "3                   2.25                     4.80  \n",
       "4                   1.35                     5.17  "
      ]
     },
     "execution_count": 3,
     "metadata": {},
     "output_type": "execute_result"
    }
   ],
   "source": [
    "cls = data['class']\n",
    "data = data.drop(axis=1, columns='class')\n",
    "\n",
    "data.head()"
   ]
  },
  {
   "cell_type": "markdown",
   "metadata": {},
   "source": [
    "Oke karena kita ini mau nerapin <i>unsupervised learning</i> jadi'nya kolom <b>class</b> di <i>dataset</i> kita itu nggak dipake ya"
   ]
  },
  {
   "cell_type": "markdown",
   "metadata": {},
   "source": [
    "# Inisialisasi nilai centroid acak"
   ]
  },
  {
   "cell_type": "code",
   "execution_count": 4,
   "metadata": {},
   "outputs": [
    {
     "data": {
      "text/plain": [
       "array([[18.9  , 16.6  ,  0.85 ,  6.54 ,  3.6  ,  3.69 ,  6.49 ],\n",
       "       [18.8  , 16.2  ,  0.896,  6.08 ,  3.76 ,  1.64 ,  6.1  ],\n",
       "       [11.4  , 13.2  ,  0.826,  5.3  ,  2.69 ,  5.38 ,  5.3  ]])"
      ]
     },
     "execution_count": 4,
     "metadata": {},
     "output_type": "execute_result"
    }
   ],
   "source": [
    "centroid = np.zeros([len(np.unique(cls)), data.shape[1]])\n",
    "\n",
    "for i in range(len(centroid)):\n",
    "    centroid[i] = data.sample()\n",
    "    \n",
    "centroid"
   ]
  },
  {
   "cell_type": "markdown",
   "metadata": {},
   "source": [
    "Nah jadi jumlah centroid itu ndak ada ketentuan'nya ya asal ndak melebih'i jumlah data aja.<br>\n",
    "Karena di <i>dataset</i> ini jumlah kategori/kelas'nya ada tiga yaudah saya bikin tiga centroid<br>dengan jumlah data percentroid sama dengan jumlah kolom pada <i>dataset</i>.<br>\n",
    "Banyak'nya centroid sama dengan banyaknya klaster yang terbentuk.<br>\n",
    "    \n",
    "Oke mungkin ada yang bertanya \"Apa tidak ada metode buat nentuin jumlah centroid yang ngepas sama <i>dataset</i> kita?\"<br>\n",
    "Ada! Pake aja <b>Elbow Method</b>.<br>\n",
    "Selengkapnya : https://en.wikipedia.org/wiki/Elbow_method_(clustering)<br>\n"
   ]
  },
  {
   "cell_type": "markdown",
   "metadata": {},
   "source": [
    "# K-Means Clustering"
   ]
  },
  {
   "cell_type": "markdown",
   "metadata": {},
   "source": [
    "<img src=\"https://wikimedia.org/api/rest_v1/media/math/render/svg/4efcba672e6df32cc8eb7ce0863591806a6581b5\">\n",
    "Kita pake <i>euclidean distance</i> aja ya<br>\n",
    "walaupun ndak menutup kemungkinan bisa juga pake rumus <i>distance</i> yang lain sih hehehe...<br>\n",
    "\n",
    "Jadi p itu nilai yang ada di data (kolom ke <sub>n</sub>)<br>\n",
    "Terus q itu nilai centroid (kolom ke <sub>n</sub>)"
   ]
  },
  {
   "cell_type": "code",
   "execution_count": 5,
   "metadata": {
    "scrolled": false
   },
   "outputs": [],
   "source": [
    "# PROGRAM UTAMA\n",
    "\n",
    "while True:\n",
    "    # BUAT NAMPUNG HASIL PERHITUNGAN SEMENTARA\n",
    "    hasil = DataFrame(0, dtype = 'float',\n",
    "                      index = np.arange(len(data)),\n",
    "                      columns = ['C1', 'C2', 'C3'])\n",
    "\n",
    "    # EUCLIDEAN DISTANCE\n",
    "    for i in range(len(data)):\n",
    "        for j in range(len(centroid)):\n",
    "            hasil.iloc[i][j] = np.sqrt(np.sum((data.loc[i]-centroid[j])**2))\n",
    "    \n",
    "    # BUAT NAMPUNG NILAI CENTROID BARU\n",
    "    new_centroid = np.zeros([len(np.unique(cls)),\n",
    "                             data.shape[1]])\n",
    "    \n",
    "    # KOLOM BARU BUAT NAMPUNG NILAI KLASTER\n",
    "    data['cluster'] = np.argmin(hasil.values,\n",
    "                                axis=1)\n",
    "\n",
    "    # CARI NILAI RATA-RATA DATA DARI KLASTER YANG TERBENTUK\n",
    "    for i in range(len(centroid)):\n",
    "        new_centroid[i] = np.average(data[data['cluster'] == i],\n",
    "                                     axis=0)[:-1]\n",
    "    \n",
    "    # KALAU NILAI CENTROID BARU SAMA DENGAN CENTROID LAMA SAMA MAKA LOOP BERHENTI\n",
    "    if np.all(centroid == new_centroid):\n",
    "        del hasil\n",
    "        break\n",
    "    # KALAU NILAINYA NGGAK SAMA\n",
    "    else:\n",
    "        # KOLOM cluster PADA data TERHAPUS &\n",
    "        data = data.drop(axis=1,columns=['cluster'])\n",
    "        # NILAI CENTROID BARU DIPAKAI BUAT PERHITUNGAN SELANJUTNYA\n",
    "        centroid = new_centroid"
   ]
  },
  {
   "cell_type": "markdown",
   "metadata": {},
   "source": [
    "Oke dari program di atas kita sudah nerapin K-Means Clustering, berikut adalah hasilnya"
   ]
  },
  {
   "cell_type": "code",
   "execution_count": 6,
   "metadata": {
    "scrolled": true
   },
   "outputs": [
    {
     "data": {
      "text/plain": [
       "array([[18.66393443, 16.22295082,  0.88267213,  6.19983607,  3.71442623,\n",
       "         3.59655738,  6.05393443],\n",
       "       [14.52054795, 14.36027397,  0.86553425,  5.55506849,  3.26780822,\n",
       "         2.62958904,  5.18287671],\n",
       "       [11.85394737, 12.87368421,  0.85081579,  5.21434211,  2.86210526,\n",
       "         4.76197368,  5.08197368]])"
      ]
     },
     "execution_count": 6,
     "metadata": {},
     "output_type": "execute_result"
    }
   ],
   "source": [
    "new_centroid"
   ]
  },
  {
   "cell_type": "markdown",
   "metadata": {},
   "source": [
    "# Data yang sudah memiliki klaster"
   ]
  },
  {
   "cell_type": "code",
   "execution_count": 7,
   "metadata": {
    "scrolled": false
   },
   "outputs": [
    {
     "data": {
      "text/html": [
       "<div>\n",
       "<style scoped>\n",
       "    .dataframe tbody tr th:only-of-type {\n",
       "        vertical-align: middle;\n",
       "    }\n",
       "\n",
       "    .dataframe tbody tr th {\n",
       "        vertical-align: top;\n",
       "    }\n",
       "\n",
       "    .dataframe thead th {\n",
       "        text-align: right;\n",
       "    }\n",
       "</style>\n",
       "<table border=\"1\" class=\"dataframe\">\n",
       "  <thead>\n",
       "    <tr style=\"text-align: right;\">\n",
       "      <th></th>\n",
       "      <th>area</th>\n",
       "      <th>perimeter</th>\n",
       "      <th>compactness</th>\n",
       "      <th>length of kernel</th>\n",
       "      <th>width of kernel</th>\n",
       "      <th>asymmetry coefficient</th>\n",
       "      <th>length of kernel groove</th>\n",
       "      <th>cluster</th>\n",
       "    </tr>\n",
       "  </thead>\n",
       "  <tbody>\n",
       "    <tr>\n",
       "      <th>0</th>\n",
       "      <td>15.2</td>\n",
       "      <td>14.8</td>\n",
       "      <td>0.870</td>\n",
       "      <td>5.76</td>\n",
       "      <td>3.31</td>\n",
       "      <td>2.22</td>\n",
       "      <td>5.20</td>\n",
       "      <td>1</td>\n",
       "    </tr>\n",
       "    <tr>\n",
       "      <th>1</th>\n",
       "      <td>14.8</td>\n",
       "      <td>14.5</td>\n",
       "      <td>0.881</td>\n",
       "      <td>5.55</td>\n",
       "      <td>3.33</td>\n",
       "      <td>1.01</td>\n",
       "      <td>4.95</td>\n",
       "      <td>1</td>\n",
       "    </tr>\n",
       "    <tr>\n",
       "      <th>2</th>\n",
       "      <td>14.2</td>\n",
       "      <td>14.0</td>\n",
       "      <td>0.900</td>\n",
       "      <td>5.29</td>\n",
       "      <td>3.33</td>\n",
       "      <td>2.69</td>\n",
       "      <td>4.82</td>\n",
       "      <td>1</td>\n",
       "    </tr>\n",
       "    <tr>\n",
       "      <th>3</th>\n",
       "      <td>13.8</td>\n",
       "      <td>13.9</td>\n",
       "      <td>0.895</td>\n",
       "      <td>5.32</td>\n",
       "      <td>3.37</td>\n",
       "      <td>2.25</td>\n",
       "      <td>4.80</td>\n",
       "      <td>1</td>\n",
       "    </tr>\n",
       "    <tr>\n",
       "      <th>4</th>\n",
       "      <td>16.1</td>\n",
       "      <td>14.9</td>\n",
       "      <td>0.903</td>\n",
       "      <td>5.65</td>\n",
       "      <td>3.56</td>\n",
       "      <td>1.35</td>\n",
       "      <td>5.17</td>\n",
       "      <td>1</td>\n",
       "    </tr>\n",
       "    <tr>\n",
       "      <th>...</th>\n",
       "      <td>...</td>\n",
       "      <td>...</td>\n",
       "      <td>...</td>\n",
       "      <td>...</td>\n",
       "      <td>...</td>\n",
       "      <td>...</td>\n",
       "      <td>...</td>\n",
       "      <td>...</td>\n",
       "    </tr>\n",
       "    <tr>\n",
       "      <th>205</th>\n",
       "      <td>12.1</td>\n",
       "      <td>13.0</td>\n",
       "      <td>0.878</td>\n",
       "      <td>5.13</td>\n",
       "      <td>2.98</td>\n",
       "      <td>3.63</td>\n",
       "      <td>4.80</td>\n",
       "      <td>2</td>\n",
       "    </tr>\n",
       "    <tr>\n",
       "      <th>206</th>\n",
       "      <td>11.2</td>\n",
       "      <td>12.8</td>\n",
       "      <td>0.851</td>\n",
       "      <td>5.10</td>\n",
       "      <td>2.79</td>\n",
       "      <td>4.32</td>\n",
       "      <td>5.00</td>\n",
       "      <td>2</td>\n",
       "    </tr>\n",
       "    <tr>\n",
       "      <th>207</th>\n",
       "      <td>13.0</td>\n",
       "      <td>13.6</td>\n",
       "      <td>0.888</td>\n",
       "      <td>5.23</td>\n",
       "      <td>3.23</td>\n",
       "      <td>8.31</td>\n",
       "      <td>5.05</td>\n",
       "      <td>2</td>\n",
       "    </tr>\n",
       "    <tr>\n",
       "      <th>208</th>\n",
       "      <td>11.8</td>\n",
       "      <td>13.2</td>\n",
       "      <td>0.852</td>\n",
       "      <td>5.17</td>\n",
       "      <td>2.83</td>\n",
       "      <td>3.59</td>\n",
       "      <td>5.04</td>\n",
       "      <td>2</td>\n",
       "    </tr>\n",
       "    <tr>\n",
       "      <th>209</th>\n",
       "      <td>12.0</td>\n",
       "      <td>13.3</td>\n",
       "      <td>0.868</td>\n",
       "      <td>5.24</td>\n",
       "      <td>2.97</td>\n",
       "      <td>5.63</td>\n",
       "      <td>5.06</td>\n",
       "      <td>2</td>\n",
       "    </tr>\n",
       "  </tbody>\n",
       "</table>\n",
       "<p>210 rows × 8 columns</p>\n",
       "</div>"
      ],
      "text/plain": [
       "     area  perimeter  compactness  length of kernel  width of kernel  \\\n",
       "0    15.2       14.8        0.870              5.76             3.31   \n",
       "1    14.8       14.5        0.881              5.55             3.33   \n",
       "2    14.2       14.0        0.900              5.29             3.33   \n",
       "3    13.8       13.9        0.895              5.32             3.37   \n",
       "4    16.1       14.9        0.903              5.65             3.56   \n",
       "..    ...        ...          ...               ...              ...   \n",
       "205  12.1       13.0        0.878              5.13             2.98   \n",
       "206  11.2       12.8        0.851              5.10             2.79   \n",
       "207  13.0       13.6        0.888              5.23             3.23   \n",
       "208  11.8       13.2        0.852              5.17             2.83   \n",
       "209  12.0       13.3        0.868              5.24             2.97   \n",
       "\n",
       "     asymmetry coefficient  length of kernel groove  cluster  \n",
       "0                     2.22                     5.20        1  \n",
       "1                     1.01                     4.95        1  \n",
       "2                     2.69                     4.82        1  \n",
       "3                     2.25                     4.80        1  \n",
       "4                     1.35                     5.17        1  \n",
       "..                     ...                      ...      ...  \n",
       "205                   3.63                     4.80        2  \n",
       "206                   4.32                     5.00        2  \n",
       "207                   8.31                     5.05        2  \n",
       "208                   3.59                     5.04        2  \n",
       "209                   5.63                     5.06        2  \n",
       "\n",
       "[210 rows x 8 columns]"
      ]
     },
     "execution_count": 7,
     "metadata": {},
     "output_type": "execute_result"
    }
   ],
   "source": [
    "data"
   ]
  },
  {
   "cell_type": "markdown",
   "metadata": {},
   "source": [
    "# Klaster yang terbentuk"
   ]
  },
  {
   "cell_type": "code",
   "execution_count": 8,
   "metadata": {
    "scrolled": true
   },
   "outputs": [
    {
     "data": {
      "text/plain": [
       "array([1, 1, 1, 1, 1, 1, 1, 1, 1, 1, 1, 1, 1, 1, 1, 1, 2, 1, 1, 2, 1, 1,\n",
       "       1, 1, 1, 1, 1, 1, 1, 1, 1, 1, 1, 1, 1, 1, 1, 0, 1, 2, 1, 1, 1, 1,\n",
       "       1, 1, 1, 1, 1, 1, 1, 1, 1, 1, 1, 1, 1, 1, 1, 1, 2, 2, 2, 2, 1, 1,\n",
       "       1, 1, 1, 2, 0, 0, 0, 0, 0, 0, 0, 0, 0, 0, 0, 0, 0, 0, 0, 0, 0, 0,\n",
       "       0, 0, 0, 0, 0, 0, 0, 0, 0, 0, 0, 0, 1, 0, 0, 0, 0, 0, 0, 0, 0, 0,\n",
       "       0, 0, 0, 0, 0, 0, 0, 0, 0, 0, 0, 0, 1, 0, 1, 0, 0, 0, 0, 0, 0, 0,\n",
       "       1, 1, 1, 1, 0, 1, 1, 1, 2, 2, 2, 2, 2, 2, 2, 2, 2, 2, 2, 2, 2, 2,\n",
       "       2, 2, 2, 2, 2, 2, 2, 2, 2, 2, 2, 2, 2, 2, 2, 2, 2, 2, 2, 2, 2, 2,\n",
       "       2, 2, 2, 1, 2, 2, 2, 2, 2, 2, 2, 2, 2, 2, 2, 2, 2, 2, 2, 2, 2, 2,\n",
       "       2, 2, 2, 1, 2, 2, 2, 2, 2, 2, 2, 2])"
      ]
     },
     "execution_count": 8,
     "metadata": {},
     "output_type": "execute_result"
    }
   ],
   "source": [
    "data['cluster'].ravel()"
   ]
  },
  {
   "cell_type": "markdown",
   "metadata": {},
   "source": [
    "Untuk <i>unsupervised learning itu</i> klaster yang terbentuk dapat kita namai sendiri.<br>\n",
    "Kalau diambil dari <i>output</i> di atas bisa saja angka 0 dganti menjadi 3.<br>\n",
    "Itu dilakukan agar urutan'nya sama dengan kolom <b>class</b> pada <i>dataset</i> yang asli."
   ]
  },
  {
   "cell_type": "code",
   "execution_count": 9,
   "metadata": {},
   "outputs": [
    {
     "data": {
      "text/plain": [
       "array([1, 1, 1, 1, 1, 1, 1, 1, 1, 1, 1, 1, 1, 1, 1, 1, 1, 1, 1, 1, 1, 1,\n",
       "       1, 1, 1, 1, 1, 1, 1, 1, 1, 1, 1, 1, 1, 1, 1, 1, 1, 1, 1, 1, 1, 1,\n",
       "       1, 1, 1, 1, 1, 1, 1, 1, 1, 1, 1, 1, 1, 1, 1, 1, 1, 1, 1, 1, 1, 1,\n",
       "       1, 1, 1, 1, 2, 2, 2, 2, 2, 2, 2, 2, 2, 2, 2, 2, 2, 2, 2, 2, 2, 2,\n",
       "       2, 2, 2, 2, 2, 2, 2, 2, 2, 2, 2, 2, 2, 2, 2, 2, 2, 2, 2, 2, 2, 2,\n",
       "       2, 2, 2, 2, 2, 2, 2, 2, 2, 2, 2, 2, 2, 2, 2, 2, 2, 2, 2, 2, 2, 2,\n",
       "       2, 2, 2, 2, 2, 2, 2, 2, 3, 3, 3, 3, 3, 3, 3, 3, 3, 3, 3, 3, 3, 3,\n",
       "       3, 3, 3, 3, 3, 3, 3, 3, 3, 3, 3, 3, 3, 3, 3, 3, 3, 3, 3, 3, 3, 3,\n",
       "       3, 3, 3, 3, 3, 3, 3, 3, 3, 3, 3, 3, 3, 3, 3, 3, 3, 3, 3, 3, 3, 3,\n",
       "       3, 3, 3, 3, 3, 3, 3, 3, 3, 3, 3, 3])"
      ]
     },
     "execution_count": 9,
     "metadata": {},
     "output_type": "execute_result"
    }
   ],
   "source": [
    "cls.ravel()"
   ]
  },
  {
   "cell_type": "code",
   "execution_count": null,
   "metadata": {},
   "outputs": [],
   "source": []
  }
 ],
 "metadata": {
  "kernelspec": {
   "display_name": "Python 3",
   "language": "python",
   "name": "python3"
  },
  "language_info": {
   "codemirror_mode": {
    "name": "ipython",
    "version": 3
   },
   "file_extension": ".py",
   "mimetype": "text/x-python",
   "name": "python",
   "nbconvert_exporter": "python",
   "pygments_lexer": "ipython3",
   "version": "3.6.9"
  }
 },
 "nbformat": 4,
 "nbformat_minor": 4
}
